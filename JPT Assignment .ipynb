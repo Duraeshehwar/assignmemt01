{
  "metadata": {
    "language_info": {
      "codemirror_mode": {
        "name": "python",
        "version": 3
      },
      "file_extension": ".py",
      "mimetype": "text/x-python",
      "name": "python",
      "nbconvert_exporter": "python",
      "pygments_lexer": "ipython3",
      "version": "3.8"
    },
    "kernelspec": {
      "name": "python",
      "display_name": "Pyolite",
      "language": "python"
    }
  },
  "nbformat_minor": 4,
  "nbformat": 4,
  "cells": [
    {
      "cell_type": "markdown",
      "source": "# Notebook",
      "metadata": {}
    },
    {
      "cell_type": "markdown",
      "source": "## Introduction ##\nI am Dura e shehwar, currently studying bachelors in mathematics and economics and this is my first assignment towards data analytics\ni feel like it is the field where i can implement my skills really well",
      "metadata": {}
    },
    {
      "cell_type": "markdown",
      "source": "### Data Science languages ###\n1. c++\n2. SQL\n3. Python \n4. R",
      "metadata": {}
    },
    {
      "cell_type": "markdown",
      "source": "### Data Science Libraries ###\n1. Tensor flow\n2. Pytorch\n3. Scikit-learn\n4. SciPy\n5. NumPy\n6. Pandas",
      "metadata": {}
    },
    {
      "cell_type": "markdown",
      "source": " ## Tools ##\n| ApacheSpark | MATLAB|\n|------|------|\n| Tableau | BigML|",
      "metadata": {}
    },
    {
      "cell_type": "markdown",
      "source": "## Introductory sentence ## \n### Arithematic equation ###\n1. 2+2=4 \n2. 4*5=20",
      "metadata": {}
    },
    {
      "cell_type": "code",
      "source": "a=209\nb=890\nsum = a+b\nmultiply = a*b\nprint (\"The sum of nos is : \", sum)\nprint (\"The multiplication of nos is : \", a*b)",
      "metadata": {
        "trusted": true
      },
      "execution_count": 4,
      "outputs": [
        {
          "name": "stdout",
          "text": "The sum of nos is :  1099\nThe multiplication of nos is :  186010\n",
          "output_type": "stream"
        }
      ]
    },
    {
      "cell_type": "code",
      "source": "\ndef convert(seconds):\n    seconds = seconds % (24 * 3600)\n    hour = seconds // 3600\n    seconds %= 3600\n    minutes = seconds // 60\n    seconds %= 60\n     \n    return \"%d:%02d:%02d\" % (hour, minutes, seconds)\n     \nn = 12345\nprint(convert(n))",
      "metadata": {
        "trusted": true
      },
      "execution_count": 5,
      "outputs": [
        {
          "name": "stdout",
          "text": "3:25:45\n",
          "output_type": "stream"
        }
      ]
    },
    {
      "cell_type": "markdown",
      "source": "## Objectives ##\n1. Introduction\n2. Languages\n3. Tools\n4. Librarries\n5. Program Practice",
      "metadata": {}
    },
    {
      "cell_type": "markdown",
      "source": "## Authors Details ##\n DuraeShehwar\n BSME\n 20 years\n Student\n",
      "metadata": {}
    },
    {
      "cell_type": "code",
      "source": "",
      "metadata": {},
      "execution_count": null,
      "outputs": []
    },
    {
      "cell_type": "code",
      "source": "",
      "metadata": {},
      "execution_count": null,
      "outputs": []
    },
    {
      "cell_type": "code",
      "source": "",
      "metadata": {},
      "execution_count": null,
      "outputs": []
    },
    {
      "cell_type": "code",
      "source": "",
      "metadata": {},
      "execution_count": null,
      "outputs": []
    },
    {
      "cell_type": "code",
      "source": "",
      "metadata": {},
      "execution_count": null,
      "outputs": []
    },
    {
      "cell_type": "code",
      "source": "",
      "metadata": {},
      "execution_count": null,
      "outputs": []
    },
    {
      "cell_type": "code",
      "source": "",
      "metadata": {},
      "execution_count": null,
      "outputs": []
    },
    {
      "cell_type": "code",
      "source": "",
      "metadata": {},
      "execution_count": null,
      "outputs": []
    },
    {
      "cell_type": "code",
      "source": "",
      "metadata": {},
      "execution_count": null,
      "outputs": []
    },
    {
      "cell_type": "code",
      "source": "",
      "metadata": {},
      "execution_count": null,
      "outputs": []
    },
    {
      "cell_type": "code",
      "source": "",
      "metadata": {},
      "execution_count": null,
      "outputs": []
    },
    {
      "cell_type": "code",
      "source": "",
      "metadata": {},
      "execution_count": null,
      "outputs": []
    },
    {
      "cell_type": "code",
      "source": "",
      "metadata": {},
      "execution_count": null,
      "outputs": []
    },
    {
      "cell_type": "code",
      "source": "",
      "metadata": {},
      "execution_count": null,
      "outputs": []
    },
    {
      "cell_type": "code",
      "source": "",
      "metadata": {},
      "execution_count": null,
      "outputs": []
    },
    {
      "cell_type": "code",
      "source": "",
      "metadata": {},
      "execution_count": null,
      "outputs": []
    }
  ]
}